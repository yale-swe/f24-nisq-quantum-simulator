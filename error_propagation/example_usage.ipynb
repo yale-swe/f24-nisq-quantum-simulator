{
 "cells": [
  {
   "cell_type": "code",
   "execution_count": 1,
   "id": "058d987b",
   "metadata": {},
   "outputs": [],
   "source": [
    "from analyze_errors import *"
   ]
  },
  {
   "cell_type": "code",
   "execution_count": 2,
   "id": "68af49b2",
   "metadata": {},
   "outputs": [],
   "source": [
    "error_layer = ErrorLayer([('Z',1)], 2)\n",
    "layer = Layer([('CX',0,1)], 2)"
   ]
  },
  {
   "cell_type": "code",
   "execution_count": 3,
   "id": "3a58c6c0",
   "metadata": {},
   "outputs": [
    {
     "data": {
      "text/plain": [
       "Layer([('Z', 1), ('Z', 0)]) with 2 qubits"
      ]
     },
     "execution_count": 3,
     "metadata": {},
     "output_type": "execute_result"
    }
   ],
   "source": [
    "propagate_error_layer_through_layer(error_layer,layer)"
   ]
  },
  {
   "cell_type": "code",
   "execution_count": 4,
   "id": "df4fdeb4",
   "metadata": {},
   "outputs": [],
   "source": [
    "circuit_list = [[('CX', 0, 1)]]\n",
    "circuit = LayeredQuantumCircuit.from_list(circuit_list, 2)"
   ]
  },
  {
   "cell_type": "code",
   "execution_count": 5,
   "id": "c3cae170",
   "metadata": {},
   "outputs": [
    {
     "data": {
      "text/plain": [
       "LayeredQuantumCircuit([Layer([('CX', 0, 1)]) with 2 qubits]) with 2 qubits"
      ]
     },
     "execution_count": 5,
     "metadata": {},
     "output_type": "execute_result"
    }
   ],
   "source": [
    "circuit"
   ]
  },
  {
   "cell_type": "code",
   "execution_count": 6,
   "id": "412599f8",
   "metadata": {},
   "outputs": [
    {
     "data": {
      "text/plain": [
       "Layer([('Z', 1)]) with 2 qubits"
      ]
     },
     "execution_count": 6,
     "metadata": {},
     "output_type": "execute_result"
    }
   ],
   "source": [
    "get_propagated_errors([ErrorLayer([('Z', 1)], 2)], [1], circuit)"
   ]
  },
  {
   "cell_type": "code",
   "execution_count": 7,
   "id": "65679420",
   "metadata": {
    "scrolled": true
   },
   "outputs": [
    {
     "data": {
      "text/plain": [
       "[(Layer([('X', 0), ('X', 1)]) with 2 qubits,\n",
       "  (Layer([('X', 0)]) with 2 qubits, 0)),\n",
       " (Layer([('Y', 0), ('X', 1)]) with 2 qubits,\n",
       "  (Layer([('Y', 0)]) with 2 qubits, 0)),\n",
       " (Layer([('Z', 0)]) with 2 qubits, (Layer([('Z', 0)]) with 2 qubits, 0)),\n",
       " (Layer([('X', 1)]) with 2 qubits, (Layer([('X', 1)]) with 2 qubits, 0)),\n",
       " (Layer([('Y', 1), ('Z', 0)]) with 2 qubits,\n",
       "  (Layer([('Y', 1)]) with 2 qubits, 0)),\n",
       " (Layer([('Z', 1), ('Z', 0)]) with 2 qubits,\n",
       "  (Layer([('Z', 1)]) with 2 qubits, 0)),\n",
       " (Layer([('X', 0)]) with 2 qubits, (Layer([('X', 0)]) with 2 qubits, 1)),\n",
       " (Layer([('Y', 0)]) with 2 qubits, (Layer([('Y', 0)]) with 2 qubits, 1)),\n",
       " (Layer([('Y', 1)]) with 2 qubits, (Layer([('Y', 1)]) with 2 qubits, 1)),\n",
       " (Layer([('Z', 1)]) with 2 qubits, (Layer([('Z', 1)]) with 2 qubits, 1))]"
      ]
     },
     "execution_count": 7,
     "metadata": {},
     "output_type": "execute_result"
    }
   ],
   "source": [
    "get_possible_sq_errors(circuit)"
   ]
  },
  {
   "cell_type": "markdown",
   "id": "290cf5e2",
   "metadata": {},
   "source": [
    "## ZZ circuit test"
   ]
  },
  {
   "cell_type": "code",
   "execution_count": 1,
   "id": "ca7f39dd",
   "metadata": {},
   "outputs": [],
   "source": [
    "from analyze_errors import *"
   ]
  },
  {
   "cell_type": "code",
   "execution_count": 2,
   "id": "043f0d53",
   "metadata": {},
   "outputs": [],
   "source": [
    "circ_list = [\n",
    "    [('CX', 0, 1), ('CX', 2, 3)],\n",
    "    [('CX', 2, 1)],\n",
    "    [('CX', 1, 0)],\n",
    "    [('Z', 0)],\n",
    "    [('CX', 1, 0)],\n",
    "    [('CX', 2, 1)],\n",
    "    [('CX', 0, 1), ('CX', 2, 3)]\n",
    "]\n",
    "circ = LayeredQuantumCircuit.from_list(circ_list, 4)"
   ]
  },
  {
   "cell_type": "code",
   "execution_count": 3,
   "id": "8de7b603",
   "metadata": {},
   "outputs": [
    {
     "data": {
      "text/plain": [
       "27"
      ]
     },
     "execution_count": 3,
     "metadata": {},
     "output_type": "execute_result"
    }
   ],
   "source": [
    "results = get_possible_sq_errors(circ)\n",
    "len(results)"
   ]
  },
  {
   "cell_type": "code",
   "execution_count": 4,
   "id": "aafabe30",
   "metadata": {},
   "outputs": [],
   "source": [
    "results = ancilla_checks(results, [0,3], ['X','Z'])"
   ]
  },
  {
   "cell_type": "code",
   "execution_count": 5,
   "id": "2695e199",
   "metadata": {},
   "outputs": [],
   "source": [
    "results = error_detection(results, ['XXXX', 'ZZZZ'])"
   ]
  },
  {
   "cell_type": "code",
   "execution_count": 6,
   "id": "c485f078",
   "metadata": {},
   "outputs": [
    {
     "data": {
      "text/plain": [
       "[(Layer([('X', 0), ('X', 1)]), (Layer([('X', 0)]), 1)),\n",
       " (Layer([('Z', 3), ('Z', 2)]), (Layer([('Z', 3)]), 1)),\n",
       " (Layer([('X', 0), ('Y', 1), ('Z', 2)]), (Layer([('Y', 0)]), 3)),\n",
       " (Layer([('Z', 1), ('Z', 2)]), (Layer([('Z', 0)]), 3))]"
      ]
     },
     "execution_count": 6,
     "metadata": {},
     "output_type": "execute_result"
    }
   ],
   "source": [
    "results"
   ]
  },
  {
   "cell_type": "code",
   "execution_count": 14,
   "id": "05f5e2da",
   "metadata": {},
   "outputs": [],
   "source": [
    "error_layer = ErrorLayer([('X', 0)], 4)"
   ]
  },
  {
   "cell_type": "code",
   "execution_count": 16,
   "id": "e474c889",
   "metadata": {},
   "outputs": [
    {
     "data": {
      "text/plain": [
       "[Layer([]),\n",
       " Layer([('X', 0)]),\n",
       " Layer([('X', 0)]),\n",
       " Layer([('X', 0)]),\n",
       " Layer([('X', 0)]),\n",
       " Layer([('X', 0)]),\n",
       " Layer([('X', 0)]),\n",
       " Layer([('X', 0), ('X', 1)])]"
      ]
     },
     "execution_count": 16,
     "metadata": {},
     "output_type": "execute_result"
    }
   ],
   "source": [
    "propagate_errors_through_circuit([error_layer], [1], circ)"
   ]
  },
  {
   "cell_type": "code",
   "execution_count": null,
   "id": "1d1c17ae",
   "metadata": {},
   "outputs": [],
   "source": []
  }
 ],
 "metadata": {
  "kernelspec": {
   "display_name": "Python 3 (ipykernel)",
   "language": "python",
   "name": "python3"
  },
  "language_info": {
   "codemirror_mode": {
    "name": "ipython",
    "version": 3
   },
   "file_extension": ".py",
   "mimetype": "text/x-python",
   "name": "python",
   "nbconvert_exporter": "python",
   "pygments_lexer": "ipython3",
   "version": "3.9.13"
  }
 },
 "nbformat": 4,
 "nbformat_minor": 5
}

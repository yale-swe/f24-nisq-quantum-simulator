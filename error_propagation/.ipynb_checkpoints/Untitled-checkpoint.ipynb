{
 "cells": [
  {
   "cell_type": "code",
   "execution_count": 1,
   "id": "c7d79988",
   "metadata": {},
   "outputs": [],
   "source": [
    "from propagate_error import *"
   ]
  },
  {
   "cell_type": "code",
   "execution_count": 8,
   "id": "ad15738e",
   "metadata": {},
   "outputs": [],
   "source": [
    "error_layer = ErrorLayer([('Z',1)], 2)\n",
    "layer = Layer([('CX',0,1)], 2)"
   ]
  },
  {
   "cell_type": "code",
   "execution_count": 9,
   "id": "bf55f609",
   "metadata": {},
   "outputs": [
    {
     "data": {
      "text/plain": [
       "Layer([('Z', 1), ('Z', 0)]) with 2 qubits"
      ]
     },
     "execution_count": 9,
     "metadata": {},
     "output_type": "execute_result"
    }
   ],
   "source": [
    "propagate_error_layer_through_layer(error_layer,layer)"
   ]
  },
  {
   "cell_type": "code",
   "execution_count": null,
   "id": "892036bb",
   "metadata": {},
   "outputs": [],
   "source": [
    "circuit_list = [[('CX', 0, 1)], [('CX', 0, 1)]]\n",
    "ciruit = LayeredQuantumCircuit.from_list()"
   ]
  }
 ],
 "metadata": {
  "kernelspec": {
   "display_name": "Python 3 (ipykernel)",
   "language": "python",
   "name": "python3"
  },
  "language_info": {
   "codemirror_mode": {
    "name": "ipython",
    "version": 3
   },
   "file_extension": ".py",
   "mimetype": "text/x-python",
   "name": "python",
   "nbconvert_exporter": "python",
   "pygments_lexer": "ipython3",
   "version": "3.9.13"
  }
 },
 "nbformat": 4,
 "nbformat_minor": 5
}

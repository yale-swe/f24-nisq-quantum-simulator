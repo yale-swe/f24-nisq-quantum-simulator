{
 "cells": [
  {
   "cell_type": "code",
   "execution_count": 1,
   "id": "d13036b0-d0b3-49b4-8025-e21780944093",
   "metadata": {},
   "outputs": [],
   "source": [
    "from commutation_computer import commute_to_end"
   ]
  },
  {
   "cell_type": "code",
   "execution_count": 30,
   "id": "d6d359cb-67fd-44bc-bfa1-1328c95cac1e",
   "metadata": {},
   "outputs": [
    {
     "name": "stdout",
     "output_type": "stream",
     "text": [
      "Resulting Circuit with Propagated Error:\n",
      "[('X', 0)]\n"
     ]
    }
   ],
   "source": [
    "# Define your circuit\n",
    "circ = [\n",
    "    [('CX', 0, 1), ('CX', 2, 3)],  # First layer: CX 0,1 and CX 2,3 can run in parallel\n",
    "    [('CX', 2, 1)],                 # Second layer: CX 2,1 must wait for both previous CNOTs\n",
    "    [('CX', 1, 0)],                 # Third layer\n",
    "    [('Z', 0)],                     # Fourth layer\n",
    "    [('CX', 1, 0)],                 # Fifth layer\n",
    "    [('CX', 2, 1)],                 # Sixth layer\n",
    "    [('CX', 0, 1), ('CX', 2, 3)]   # Seventh layer: CX 0,1 and CX 2,3 can run in parallel\n",
    "]\n",
    "# Use the commute_to_end function to propagate the X error on qubit 0\n",
    "commuted_error = commute_to_end(circ, error_row=0, error_col=0, error_type='X')\n",
    "\n",
    "# Display the resulting circuit and the accumulated phase\n",
    "print(\"Resulting Circuit with Propagated Error:\")\n",
    "print(commuted_error)"
   ]
  },
  {
   "cell_type": "code",
   "execution_count": null,
   "id": "1e832355-94cc-403c-982c-6eb831cfdb96",
   "metadata": {},
   "outputs": [],
   "source": []
  },
  {
   "cell_type": "code",
   "execution_count": 3,
   "id": "cf24c2bb-b827-48d3-a5e2-103ff4875ff5",
   "metadata": {},
   "outputs": [
    {
     "name": "stdout",
     "output_type": "stream",
     "text": [
      "Resulting Circuit with Propagated Error:\n",
      "[('X', 0), ('X', 1)]\n"
     ]
    }
   ],
   "source": [
    "# Define your circuit\n",
    "circ = [[('CX', 0, 1)]]\n",
    "# Use the commute_to_end function to propagate the X error on qubit 0\n",
    "commuted_error = commute_to_end(circ, error_row=0, error_col=0, error_type='X')\n",
    "\n",
    "# Display the resulting circuit and the accumulated phase\n",
    "print(\"Resulting Circuit with Propagated Error:\")\n",
    "print(commuted_error)"
   ]
  },
  {
   "cell_type": "code",
   "execution_count": null,
   "id": "937b0dfb-e94f-4373-8cf1-7d2cfd7516c5",
   "metadata": {},
   "outputs": [],
   "source": []
  }
 ],
 "metadata": {
  "kernelspec": {
   "display_name": "Python 3 (ipykernel)",
   "language": "python",
   "name": "python3"
  },
  "language_info": {
   "codemirror_mode": {
    "name": "ipython",
    "version": 3
   },
   "file_extension": ".py",
   "mimetype": "text/x-python",
   "name": "python",
   "nbconvert_exporter": "python",
   "pygments_lexer": "ipython3",
   "version": "3.12.5"
  }
 },
 "nbformat": 4,
 "nbformat_minor": 5
}

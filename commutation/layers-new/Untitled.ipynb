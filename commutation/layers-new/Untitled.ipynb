{
 "cells": [
  {
   "cell_type": "code",
   "execution_count": 1,
   "id": "b1684548",
   "metadata": {},
   "outputs": [],
   "source": [
    "from analyze_errors import *"
   ]
  },
  {
   "cell_type": "code",
   "execution_count": 2,
   "id": "adfe3c33",
   "metadata": {},
   "outputs": [],
   "source": [
    "error_layer = ErrorLayer([('Z',1)], 2)\n",
    "layer = Layer([('CX',0,1)], 2)"
   ]
  },
  {
   "cell_type": "code",
   "execution_count": 3,
   "id": "05f7eb02",
   "metadata": {},
   "outputs": [
    {
     "data": {
      "text/plain": [
       "Layer([('Z', 1), ('Z', 0)]) with 2 qubits"
      ]
     },
     "execution_count": 3,
     "metadata": {},
     "output_type": "execute_result"
    }
   ],
   "source": [
    "propagate_error_layer_through_layer(error_layer,layer)"
   ]
  },
  {
   "cell_type": "code",
   "execution_count": 4,
   "id": "7a1a6663",
   "metadata": {},
   "outputs": [],
   "source": [
    "circuit_list = [[('CX', 0, 1)]]\n",
    "circuit = LayeredQuantumCircuit.from_list(circuit_list, 2)"
   ]
  },
  {
   "cell_type": "code",
   "execution_count": 5,
   "id": "25ed9798",
   "metadata": {},
   "outputs": [
    {
     "data": {
      "text/plain": [
       "LayeredQuantumCircuit([Layer([('CX', 0, 1)]) with 2 qubits]) with 2 qubits"
      ]
     },
     "execution_count": 5,
     "metadata": {},
     "output_type": "execute_result"
    }
   ],
   "source": [
    "circuit"
   ]
  },
  {
   "cell_type": "code",
   "execution_count": 6,
   "id": "d4dbe16b",
   "metadata": {},
   "outputs": [
    {
     "data": {
      "text/plain": [
       "Layer([('Z', 1)]) with 2 qubits"
      ]
     },
     "execution_count": 6,
     "metadata": {},
     "output_type": "execute_result"
    }
   ],
   "source": [
    "get_propagated_errors([ErrorLayer([('Z', 1)], 2)], [1], circuit)"
   ]
  },
  {
   "cell_type": "code",
   "execution_count": 7,
   "id": "f9fda9df",
   "metadata": {
    "scrolled": true
   },
   "outputs": [
    {
     "data": {
      "text/plain": [
       "[(Layer([('X', 0), ('X', 1)]) with 2 qubits,\n",
       "  (Layer([('X', 0)]) with 2 qubits, 0)),\n",
       " (Layer([('Y', 0), ('X', 1)]) with 2 qubits,\n",
       "  (Layer([('Y', 0)]) with 2 qubits, 0)),\n",
       " (Layer([('Z', 0)]) with 2 qubits, (Layer([('Z', 0)]) with 2 qubits, 0)),\n",
       " (Layer([('X', 1)]) with 2 qubits, (Layer([('X', 1)]) with 2 qubits, 0)),\n",
       " (Layer([('Y', 1), ('Z', 0)]) with 2 qubits,\n",
       "  (Layer([('Y', 1)]) with 2 qubits, 0)),\n",
       " (Layer([('Z', 1), ('Z', 0)]) with 2 qubits,\n",
       "  (Layer([('Z', 1)]) with 2 qubits, 0)),\n",
       " (Layer([('X', 0)]) with 2 qubits, (Layer([('X', 0)]) with 2 qubits, 1)),\n",
       " (Layer([('Y', 0)]) with 2 qubits, (Layer([('Y', 0)]) with 2 qubits, 1)),\n",
       " (Layer([('Y', 1)]) with 2 qubits, (Layer([('Y', 1)]) with 2 qubits, 1)),\n",
       " (Layer([('Z', 1)]) with 2 qubits, (Layer([('Z', 1)]) with 2 qubits, 1))]"
      ]
     },
     "execution_count": 7,
     "metadata": {},
     "output_type": "execute_result"
    }
   ],
   "source": [
    "get_possible_sq_errors(circuit)"
   ]
  },
  {
   "cell_type": "markdown",
   "id": "1a2f43f2",
   "metadata": {},
   "source": [
    "## ZZ circuit test"
   ]
  },
  {
   "cell_type": "code",
   "execution_count": 1,
   "id": "de94f397",
   "metadata": {},
   "outputs": [],
   "source": [
    "from analyze_errors import *"
   ]
  },
  {
   "cell_type": "code",
   "execution_count": 2,
   "id": "a02d4fbb",
   "metadata": {},
   "outputs": [],
   "source": [
    "circ_list = [\n",
    "    [('CX', 0, 1), ('CX', 2, 3)],\n",
    "    [('CX', 2, 1)],\n",
    "    [('CX', 1, 0)],\n",
    "    [('Z', 0)],\n",
    "    [('CX', 1, 0)],\n",
    "    [('CX', 2, 1)],\n",
    "    [('CX', 0, 1), ('CX', 2, 3)]\n",
    "]\n",
    "circ = LayeredQuantumCircuit.from_list(circ_list, 4)"
   ]
  },
  {
   "cell_type": "code",
   "execution_count": 3,
   "id": "a198e319",
   "metadata": {},
   "outputs": [
    {
     "data": {
      "text/plain": [
       "27"
      ]
     },
     "execution_count": 3,
     "metadata": {},
     "output_type": "execute_result"
    }
   ],
   "source": [
    "results = get_possible_sq_errors(circ)\n",
    "len(results)"
   ]
  },
  {
   "cell_type": "code",
   "execution_count": 4,
   "id": "a414b715",
   "metadata": {},
   "outputs": [],
   "source": [
    "results = ancilla_checks(results, [0,3], ['X','Z'])"
   ]
  },
  {
   "cell_type": "code",
   "execution_count": 5,
   "id": "7bf73765",
   "metadata": {},
   "outputs": [],
   "source": [
    "results = error_detection(results, ['XXXX', 'ZZZZ'])"
   ]
  },
  {
   "cell_type": "code",
   "execution_count": 6,
   "id": "c4d57d6c",
   "metadata": {},
   "outputs": [
    {
     "data": {
      "text/plain": [
       "[(Layer([('X', 0), ('X', 1)]), (Layer([('X', 0)]), 1)),\n",
       " (Layer([('Z', 3), ('Z', 2)]), (Layer([('Z', 3)]), 1)),\n",
       " (Layer([('X', 0), ('Y', 1), ('Z', 2)]), (Layer([('Y', 0)]), 3)),\n",
       " (Layer([('Z', 1), ('Z', 2)]), (Layer([('Z', 0)]), 3))]"
      ]
     },
     "execution_count": 6,
     "metadata": {},
     "output_type": "execute_result"
    }
   ],
   "source": [
    "results"
   ]
  },
  {
   "cell_type": "code",
   "execution_count": 9,
   "id": "b21a1d0c",
   "metadata": {},
   "outputs": [
    {
     "ename": "AttributeError",
     "evalue": "'tuple' object has no attribute 'gates'",
     "output_type": "error",
     "traceback": [
      "\u001b[0;31m---------------------------------------------------------------------------\u001b[0m",
      "\u001b[0;31mAttributeError\u001b[0m                            Traceback (most recent call last)",
      "\u001b[0;32m/var/folders/lm/_07_6mpj3nnfjsfc6j546xf80000gn/T/ipykernel_60945/758669933.py\u001b[0m in \u001b[0;36m<module>\u001b[0;34m\u001b[0m\n\u001b[0;32m----> 1\u001b[0;31m \u001b[0mpropagate_errors_through_circuit\u001b[0m\u001b[0;34m(\u001b[0m\u001b[0mLayer\u001b[0m\u001b[0;34m(\u001b[0m\u001b[0;34m[\u001b[0m\u001b[0;34m(\u001b[0m\u001b[0;34m'X'\u001b[0m\u001b[0;34m,\u001b[0m \u001b[0;36m0\u001b[0m\u001b[0;34m)\u001b[0m\u001b[0;34m]\u001b[0m\u001b[0;34m,\u001b[0m \u001b[0;36m4\u001b[0m\u001b[0;34m)\u001b[0m\u001b[0;34m,\u001b[0m \u001b[0;34m[\u001b[0m\u001b[0;36m1\u001b[0m\u001b[0;34m]\u001b[0m\u001b[0;34m,\u001b[0m \u001b[0mcirc\u001b[0m\u001b[0;34m)\u001b[0m\u001b[0;34m\u001b[0m\u001b[0;34m\u001b[0m\u001b[0m\n\u001b[0m",
      "\u001b[0;32m~/Desktop/commutation/layers-new/propagate_error.py\u001b[0m in \u001b[0;36mpropagate_errors_through_circuit\u001b[0;34m(error_layers, indices, circuit)\u001b[0m\n\u001b[1;32m    146\u001b[0m             \u001b[0;31m# Combine the current error layer with the new one\u001b[0m\u001b[0;34m\u001b[0m\u001b[0;34m\u001b[0m\u001b[0m\n\u001b[1;32m    147\u001b[0m             current_error_layer = ErrorLayer(\n\u001b[0;32m--> 148\u001b[0;31m                 \u001b[0msimplify_propagated_errors\u001b[0m\u001b[0;34m(\u001b[0m\u001b[0mcurrent_error_layer\u001b[0m\u001b[0;34m.\u001b[0m\u001b[0mgates\u001b[0m \u001b[0;34m+\u001b[0m \u001b[0mnew_error_layer\u001b[0m\u001b[0;34m.\u001b[0m\u001b[0mgates\u001b[0m\u001b[0;34m)\u001b[0m\u001b[0;34m,\u001b[0m\u001b[0;34m\u001b[0m\u001b[0;34m\u001b[0m\u001b[0m\n\u001b[0m\u001b[1;32m    149\u001b[0m                 \u001b[0mlayer\u001b[0m\u001b[0;34m.\u001b[0m\u001b[0mnum_qubits\u001b[0m\u001b[0;34m\u001b[0m\u001b[0;34m\u001b[0m\u001b[0m\n\u001b[1;32m    150\u001b[0m             )\n",
      "\u001b[0;31mAttributeError\u001b[0m: 'tuple' object has no attribute 'gates'"
     ]
    }
   ],
   "source": [
    "propagate_errors_through_circuit(Layer([('X', 0)], 4), [1], circ)"
   ]
  },
  {
   "cell_type": "code",
   "execution_count": null,
   "id": "7c96cc37",
   "metadata": {},
   "outputs": [],
   "source": []
  }
 ],
 "metadata": {
  "kernelspec": {
   "display_name": "Python 3 (ipykernel)",
   "language": "python",
   "name": "python3"
  },
  "language_info": {
   "codemirror_mode": {
    "name": "ipython",
    "version": 3
   },
   "file_extension": ".py",
   "mimetype": "text/x-python",
   "name": "python",
   "nbconvert_exporter": "python",
   "pygments_lexer": "ipython3",
   "version": "3.9.13"
  }
 },
 "nbformat": 4,
 "nbformat_minor": 5
}

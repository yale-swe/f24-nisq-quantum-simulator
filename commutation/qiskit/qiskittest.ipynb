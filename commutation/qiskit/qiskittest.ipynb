{
 "cells": [
  {
   "cell_type": "code",
   "execution_count": 1,
   "id": "77f808a0-34be-48eb-82ba-2a7438d8d9f4",
   "metadata": {},
   "outputs": [],
   "source": [
    "import qiskit\n",
    "from commutation_computer import commute_to_end"
   ]
  },
  {
   "cell_type": "code",
   "execution_count": 2,
   "id": "dd8dc087-bd29-4af5-90a8-f5033f22fd2f",
   "metadata": {},
   "outputs": [
    {
     "name": "stdout",
     "output_type": "stream",
     "text": [
      "Resulting Circuit with Propagated Error:\n",
      "               ┌───┐┌───┐┌───┐          ┌───┐\n",
      "q_0: ──■───────┤ X ├┤ Z ├┤ X ├───────■──┤ X ├\n",
      "     ┌─┴─┐┌───┐└─┬─┘└───┘└─┬─┘┌───┐┌─┴─┐├───┤\n",
      "q_1: ┤ X ├┤ X ├──■─────────■──┤ X ├┤ X ├┤ X ├\n",
      "     └───┘└─┬─┘               └─┬─┘└───┘├───┤\n",
      "q_2: ──■────■───────────────────■────■──┤ X ├\n",
      "     ┌─┴─┐                         ┌─┴─┐├───┤\n",
      "q_3: ┤ X ├─────────────────────────┤ X ├┤ X ├\n",
      "     └───┘                         └───┘└───┘\n"
     ]
    }
   ],
   "source": [
    "# Define your circuit\n",
    "circ = qiskit.QuantumCircuit(4)\n",
    "circ.cx(0, 1)\n",
    "circ.cx(2, 3)\n",
    "circ.cx(2, 1)\n",
    "circ.cx(1, 0)\n",
    "circ.z(0)\n",
    "circ.cx(1, 0)\n",
    "circ.cx(2, 1)\n",
    "circ.cx(0, 1)\n",
    "circ.cx(2, 3)\n",
    "\n",
    "# Use the commute_to_end function to propagate the X error on qubit 0\n",
    "resulting_circuit = commute_to_end(circ, error_row=0, error_col=0, error_type='X')\n",
    "\n",
    "# Display the resulting circuit and the accumulated phase\n",
    "print(\"Resulting Circuit with Propagated Error:\")\n",
    "print(resulting_circuit.draw())"
   ]
  },
  {
   "cell_type": "code",
   "execution_count": 3,
   "id": "6a855648-a656-4410-905b-6b908acc35e7",
   "metadata": {},
   "outputs": [
    {
     "name": "stdout",
     "output_type": "stream",
     "text": [
      "Resulting Circuit with Propagated Error:\n",
      "               \n",
      "q_0: ──■────■──\n",
      "     ┌─┴─┐┌─┴─┐\n",
      "q_1: ┤ X ├┤ X ├\n",
      "     └───┘└───┘\n"
     ]
    }
   ],
   "source": [
    "# Define your circuit\n",
    "circ = qiskit.QuantumCircuit(2)\n",
    "circ.cx(0, 1)\n",
    "circ.cx(0,1)\n",
    "\n",
    "# Use the commute_to_end function to propagate the X error on qubit 0\n",
    "resulting_circuit = commute_to_end(circ, error_row=0, error_col=0, error_type='X')\n",
    "\n",
    "# Display the resulting circuit and the accumulated phase\n",
    "print(\"Resulting Circuit with Propagated Error:\")\n",
    "print(resulting_circuit.draw())"
   ]
  },
  {
   "cell_type": "code",
   "execution_count": 5,
   "id": "f6f50a3b-c36f-41aa-9de5-875a7a91bc04",
   "metadata": {},
   "outputs": [
    {
     "name": "stdout",
     "output_type": "stream",
     "text": [
      "Warning: Accumulated -1 phase in error propagation\n",
      "Resulting Circuit with Propagated Error:\n",
      "     ┌───┐┌───┐\n",
      "q_0: ┤ Z ├┤ X ├\n",
      "     └───┘└───┘\n",
      "q_1: ──────────\n",
      "               \n"
     ]
    }
   ],
   "source": [
    "# Define your circuit\n",
    "circ = qiskit.QuantumCircuit(2)\n",
    "circ.z(0)\n",
    "\n",
    "# Use the commute_to_end function to propagate the X error on qubit 0\n",
    "resulting_circuit = commute_to_end(circ, error_row=0, error_col=0, error_type='X')\n",
    "\n",
    "# Display the resulting circuit and the accumulated phase\n",
    "print(\"Resulting Circuit with Propagated Error:\")\n",
    "print(resulting_circuit.draw())"
   ]
  },
  {
   "cell_type": "code",
   "execution_count": null,
   "id": "8fde7d72-badf-496f-9fc9-e16b51749b9c",
   "metadata": {},
   "outputs": [],
   "source": []
  }
 ],
 "metadata": {
  "kernelspec": {
   "display_name": "Python 3 (ipykernel)",
   "language": "python",
   "name": "python3"
  },
  "language_info": {
   "codemirror_mode": {
    "name": "ipython",
    "version": 3
   },
   "file_extension": ".py",
   "mimetype": "text/x-python",
   "name": "python",
   "nbconvert_exporter": "python",
   "pygments_lexer": "ipython3",
   "version": "3.12.5"
  }
 },
 "nbformat": 4,
 "nbformat_minor": 5
}

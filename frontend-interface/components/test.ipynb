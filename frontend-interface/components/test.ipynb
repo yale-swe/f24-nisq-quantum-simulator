{
 "cells": [
  {
   "cell_type": "code",
   "execution_count": 2,
   "metadata": {},
   "outputs": [],
   "source": [
    "import numpy as np\n",
    "import qutip as qt\n",
    "\n",
    "I = qt.qeye(2).full()\n",
    "X = qt.sigmax().full()\n",
    "Y = qt.sigmay().full()\n",
    "Z = qt.sigmaz().full()\n",
    "\n",
    "a = [I/2, X/2, Y/2, Z/2]\n",
    "\n",
    "np.save(\"rohan\", a)"
   ]
  }
 ],
 "metadata": {
  "kernelspec": {
   "display_name": "ising_sim",
   "language": "python",
   "name": "python3"
  },
  "language_info": {
   "codemirror_mode": {
    "name": "ipython",
    "version": 3
   },
   "file_extension": ".py",
   "mimetype": "text/x-python",
   "name": "python",
   "nbconvert_exporter": "python",
   "pygments_lexer": "ipython3",
   "version": "3.9.20"
  }
 },
 "nbformat": 4,
 "nbformat_minor": 2
}
